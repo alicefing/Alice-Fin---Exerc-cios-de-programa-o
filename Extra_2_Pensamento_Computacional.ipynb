{
  "nbformat": 4,
  "nbformat_minor": 0,
  "metadata": {
    "colab": {
      "provenance": [],
      "include_colab_link": true
    },
    "kernelspec": {
      "name": "python3",
      "display_name": "Python 3"
    }
  },
  "cells": [
    {
      "cell_type": "markdown",
      "metadata": {
        "id": "view-in-github",
        "colab_type": "text"
      },
      "source": [
        "<a href=\"https://colab.research.google.com/github/alicefing/Alice-Fin---Exerc-cios-de-programa-o/blob/main/Extra_2_Pensamento_Computacional.ipynb\" target=\"_parent\"><img src=\"https://colab.research.google.com/assets/colab-badge.svg\" alt=\"Open In Colab\"/></a>"
      ]
    },
    {
      "cell_type": "markdown",
      "metadata": {
        "id": "G90zxY79qIXe"
      },
      "source": [
        "\n",
        "<html>\n",
        "  <body>\n",
        "    <header></header>\n",
        "        <CENTER>\n",
        "          <img src=\"https://uvv.br/wp-content/themes/core/dist/images/Logo.png\" alt=\"UVV-LOGO\" style = width=\"100px\"; height=\"100px\">\n",
        "        </CENTER>\n",
        "        <CENTER><b>Fundamentos de Tecnologia da Computação</b></CENTER>\n",
        "        <CENTER><b>Atividade Extra</b></CENTER>"
      ]
    },
    {
      "cell_type": "markdown",
      "source": [
        "NOME:"
      ],
      "metadata": {
        "id": "cTWjy-UMSZKR"
      }
    },
    {
      "cell_type": "markdown",
      "source": [
        "MEU LINK COLAB: [Link]()"
      ],
      "metadata": {
        "id": "VGKo5hTSCMcA"
      }
    },
    {
      "cell_type": "markdown",
      "source": [
        "Dado o algoritmo em Python da situação-problema: equação do 2º grau, a seguir:"
      ],
      "metadata": {
        "id": "oYxhaVMLFlQl"
      }
    },
    {
      "cell_type": "code",
      "source": [
        "try:\n",
        "  A = float(input('Coeficiente A: '))\n",
        "  B = float(input('Coeficiente B: '))\n",
        "  C = float(input('Coeficiente C: '))\n",
        "  if A == 0 or (B == 0 and C == 0):\n",
        "    print('Não é uma Equação do 2° Grau.')\n",
        "  else:\n",
        "    delta = B ** 2 - 4 * A * C\n",
        "    print(f'Valor de Delta: {delta: .2f}')\n",
        "    if delta < 0:\n",
        "      print('Não tem Raízes no conjunto dos números reais.')\n",
        "    elif delta == 0:\n",
        "      X1 = -B / (2 * A)\n",
        "      print(f'Raiz X1 = X2 = {X1: .2f}')\n",
        "    else:\n",
        "      raizDelta = delta ** 0.5\n",
        "      print(f'Valor da Raíz de Delta: {raizDelta: .2f}')\n",
        "      X1 = (-B + raizDelta) / (2 * A)\n",
        "      X2 = (-B - raizDelta) / (2 * A)\n",
        "      print(f'Raiz X1 = {X1: .2f}')\n",
        "      print(f'Raiz X2 = {X2: .2f}')\n",
        "except Exception as ERRO_EXCECAO:\n",
        "  print(f'Erro de exceção: {ERRO_EXCECAO}')"
      ],
      "metadata": {
        "id": "Ul_GBrLkF_vE",
        "colab": {
          "base_uri": "https://localhost:8080/"
        },
        "outputId": "0d2c45b9-5214-49fd-f38d-d1d39b5f8694"
      },
      "execution_count": null,
      "outputs": [
        {
          "output_type": "stream",
          "name": "stdout",
          "text": [
            "Coeficiente A: 0\n",
            "Coeficiente B: 1\n",
            "Coeficiente C: 2\n",
            "Não é uma Equação do 2° Grau.\n"
          ]
        }
      ]
    },
    {
      "cell_type": "markdown",
      "source": [
        "Com isso, copiar e execute o algoritmo acima **5 vezes**, escolhendo os coeficientes $A$, $B$ e $C$ para as 5 grupos de soluções por decomposição:"
      ],
      "metadata": {
        "id": "vypqq-7YHXZ9"
      }
    },
    {
      "cell_type": "markdown",
      "metadata": {
        "id": "CWZ7nYLvZjR8"
      },
      "source": [
        "# DECOMPOSIÇÃO 1:\n",
        "\n",
        "Os coeficientes A, B ou C não formam uma equação do 2º grau:"
      ]
    },
    {
      "cell_type": "code",
      "source": [
        "# Executar seu algoritmo aqui:\n",
        "try:\n",
        "  A = float(input('Coeficiente A: '))\n",
        "  B = float(input('Coeficiente B: '))\n",
        "  C = float(input('Coeficiente C: '))\n",
        "  if A == 0 or (B == 0 and C == 0):\n",
        "    print('Não é uma Equação do 2° Grau.')\n",
        "  else:\n",
        "    delta = B ** 2 - 4 * A * C\n",
        "    print(f'Valor de Delta: {delta: .2f}')\n",
        "    if delta < 0:\n",
        "      print('Não tem Raízes no conjunto dos números reais.')\n",
        "    elif delta == 0:\n",
        "      X1 = -B / (2 * A)\n",
        "      print(f'Raiz X1 = X2 = {X1: .2f}')\n",
        "    else:\n",
        "      raizDelta = delta ** 0.5\n",
        "      print(f'Valor da Raíz de Delta: {raizDelta: .2f}')\n",
        "      X1 = (-B + raizDelta) / (2 * A)\n",
        "      X2 = (-B - raizDelta) / (2 * A)\n",
        "      print(f'Raiz X1 = {X1: .2f}')\n",
        "      print(f'Raiz X2 = {X2: .2f}')\n",
        "except Exception as ERRO_EXCECAO:\n",
        "  print(f'Erro de exceção: {ERRO_EXCECAO}')"
      ],
      "metadata": {
        "id": "aphElrP0V9-T",
        "colab": {
          "base_uri": "https://localhost:8080/"
        },
        "outputId": "ef81ccdf-b2d8-452f-b296-141c3a9bb1fc"
      },
      "execution_count": 1,
      "outputs": [
        {
          "output_type": "stream",
          "name": "stdout",
          "text": [
            "Coeficiente A: 0\n",
            "Coeficiente B: 0\n",
            "Coeficiente C: 0\n",
            "Não é uma Equação do 2° Grau.\n"
          ]
        }
      ]
    },
    {
      "cell_type": "markdown",
      "source": [
        "Programar na próxima célula, usando as linguagens de marcação HTML + CSS + LATEX, a equação montada com os valores:\n",
        "\n",
        "*   Coeficientes $A$, $B$ e $C$.\n",
        "*   Delta e Raiz de Delta, se existir.\n",
        "* $x_1$ e $x_2$, se existir."
      ],
      "metadata": {
        "id": "vNPeAuj7IUN3"
      }
    },
    {
      "cell_type": "markdown",
      "source": [
        "<!DOCTYPE html>\n",
        "<html lang=\"pt-br\">\n",
        "<head>\n",
        "    <meta charset=\"UTF-8\">\n",
        "    <meta name=\"viewport\" content=\"width=device-width, initial-scale=1.0\">\n",
        "    <title>DECOMPOSIÇÃO 1 ----------------------------------------------------------------------------------------------------------------------------</title>\n",
        "</head>\n",
        "<body>\n",
        "    <h3>Resolução da Equação do Segundo Grau</h3>\n",
        "<br>\n",
        "    - Coeficientes testados ---->  A=0; B=0; C=0\n",
        "$$ 0x^2 + 0x + 0 = 0 $$\n",
        "<br>\n",
        "     - DELTA:  O valor de delta é nulo, visto que todos os coeficientes tem o valor 0. No código, nem calcula delta pois antes o programa já entende que não será possível pelos valores dos coeficientes.\n",
        "$$ \\Delta = 0^2 - 4*0*0 $$\n",
        "<br>\n",
        "    - RAÍZES: Não é possível ter raizes reais nesse caso em que delta é menor que zero.\n",
        "\n",
        "</body>\n",
        "</html>\n",
        "\n",
        "\n"
      ],
      "metadata": {
        "id": "Zpsvyqu-q2nT"
      }
    },
    {
      "cell_type": "code",
      "source": [],
      "metadata": {
        "id": "C12S8_vYmnAk"
      },
      "execution_count": null,
      "outputs": []
    },
    {
      "cell_type": "markdown",
      "source": [
        "\n",
        "RASTREAMENTO DO ALGORITMO: $$ 0x^2 + 0x + 0 = 0 $$\n",
        "\n",
        "*   1º PASSO (AÇÕES ou DECISÕES = ação = LER: Coeficiente $a = 0$)\n",
        "*   2º PASSO (AÇÕES ou DECISÕES = ação = LER: Coeficiente $b = 0$)\n",
        "*   3º PASSO (AÇÕES ou DECISÕES = ação = LER: Coeficiente $c = 0$)\n",
        "*   4º PASSO (AÇÕES ou DECISÕES = decisão = EXIBIR: 'Não é uma Equação do 2° Grau.')\n"
      ],
      "metadata": {
        "id": "4qyDqVvRIqwy"
      }
    },
    {
      "cell_type": "markdown",
      "source": [],
      "metadata": {
        "id": "vHY3W2y6kH9W"
      }
    },
    {
      "cell_type": "markdown",
      "source": [],
      "metadata": {
        "id": "Gm51ctecmeoY"
      }
    },
    {
      "cell_type": "markdown",
      "metadata": {
        "id": "stTvYgS0Z1_e"
      },
      "source": [
        "# DECOMPOSIÇÃO 2:\n",
        "\n",
        "Os coeficientes A, B ou C formam uma equação do 2º grau: de delta < 0:"
      ]
    },
    {
      "cell_type": "markdown",
      "source": [],
      "metadata": {
        "id": "lUo0-fvg3Uoh"
      }
    },
    {
      "cell_type": "code",
      "metadata": {
        "id": "I0jBku9KZ0sk",
        "colab": {
          "base_uri": "https://localhost:8080/"
        },
        "outputId": "9ff54115-5bf3-438e-9975-10a44052603a"
      },
      "source": [
        "# Executar seu algoritmo aqui:\n",
        "try:\n",
        "  A = float(input('Coeficiente A: '))\n",
        "  B = float(input('Coeficiente B: '))\n",
        "  C = float(input('Coeficiente C: '))\n",
        "  if A == 0 or (B == 0 and C == 0):\n",
        "    print('Não é uma Equação do 2° Grau.')\n",
        "  else:\n",
        "    delta = B ** 2 - 4 * A * C\n",
        "    print(f'Valor de Delta: {delta: .2f}')\n",
        "    if delta < 0:\n",
        "      print('Não tem Raízes no conjunto dos números reais.')\n",
        "    elif delta == 0:\n",
        "      X1 = -B / (2 * A)\n",
        "      print(f'Raiz X1 = X2 = {X1: .2f}')\n",
        "    else:\n",
        "      raizDelta = delta ** 0.5\n",
        "      print(f'Valor da Raíz de Delta: {raizDelta: .2f}')\n",
        "      X1 = (-B + raizDelta) / (2 * A)\n",
        "      X2 = (-B - raizDelta) / (2 * A)\n",
        "      print(f'Raiz X1 = {X1: .2f}')\n",
        "      print(f'Raiz X2 = {X2: .2f}')\n",
        "except Exception as ERRO_EXCECAO:\n",
        "  print(f'Erro de exceção: {ERRO_EXCECAO}')\n"
      ],
      "execution_count": 2,
      "outputs": [
        {
          "output_type": "stream",
          "name": "stdout",
          "text": [
            "Coeficiente A: 2\n",
            "Coeficiente B: -1\n",
            "Coeficiente C: 3\n",
            "Valor de Delta: -23.00\n",
            "Não tem Raízes no conjunto dos números reais.\n"
          ]
        }
      ]
    },
    {
      "cell_type": "markdown",
      "source": [
        "Programar na próxima célula, usando as linguagens de marcação HTML + CSS + LATEX, a equação montada com os valores:\n",
        "\n",
        "*   Coeficientes $A$, $B$ e $C$.\n",
        "*   Delta e Raiz de Delta, se existir.\n",
        "* $x_1$ e $x_2$, se existir."
      ],
      "metadata": {
        "id": "I6G4nf5lJ5O8"
      }
    },
    {
      "cell_type": "markdown",
      "source": [
        "<!DOCTYPE html>\n",
        "<html lang=\"pt-br\">\n",
        "<head>\n",
        "    <meta charset=\"UTF-8\">\n",
        "    <meta name=\"viewport\" content=\"width=device-width, initial-scale=1.0\">\n",
        "    <title>DECOMPOSIÇÃO 2 ----------------------------------------------------------------------------------------------------------------------------</title>\n",
        "</head>\n",
        "<body>\n",
        "    <h3>Resolução da Equação do Segundo Grau</h3>\n",
        "<br>\n",
        "    - Coeficientes testados ---->  A=2; B=-1; C=3\n",
        "$$ 2x^2 -x + 3 = 0 $$\n",
        "<br>\n",
        "     - DELTA:  O valor de delta é negativo, visto que o coenficiente que multiplica que B e é elevado a 2 é negativo. A e C, que são multiplicados ao -4, são numero poisitivos. No código, quando multiplicado todos os valores, DELTA é menor que zero.\n",
        "$$ \\Delta = -1^2 - 4*2*3 $$\n",
        "$$ \\Delta = -23 $$\n",
        "<br>\n",
        "    - RAÍZES: Não tem Raízes no conjunto dos números reais.\n",
        "\n",
        "</body>\n",
        "</html>\n"
      ],
      "metadata": {
        "id": "Z2LHW4kl48XC"
      }
    },
    {
      "cell_type": "markdown",
      "source": [
        "RASTREAMENTO DO ALGORITMO: $$ 2x^2 - x + 3 = 0 $$\n",
        "\n",
        "*   1º PASSO (AÇÕES ou DECISÕES = ação = LER: Coeficiente $a = 2$)\n",
        "*   2º PASSO (AÇÕES ou DECISÕES = ação = LER: Coeficiente $b = -1$)\n",
        "*   3º PASSO (AÇÕES ou DECISÕES = ação = LER: Coeficiente $c = 3$)\n",
        "*   4º PASSO (AÇÕES ou DECISÕES = DECISÃO = EXIBIR: 'Valor de Delta: -23.00')\n",
        "*   5º PASSO (AÇÕES ou DECISÕES = DECISÃO = EXIBIR: 'Não tem Raízes no conjunto dos números reais.')\n",
        "\n"
      ],
      "metadata": {
        "id": "oyLPTZD9J5W-"
      }
    },
    {
      "cell_type": "markdown",
      "source": [
        "# DECOMPOSIÇÃO 3:\n",
        "\n",
        "Os coeficientes A, B ou C formam uma equação do 2º grau: de delta = 0:"
      ],
      "metadata": {
        "id": "OeSFvVsvKHS7"
      }
    },
    {
      "cell_type": "code",
      "source": [
        "# Executar seu algoritmo aqui:\n",
        "try:\n",
        "  A = float(input('Coeficiente A: '))\n",
        "  B = float(input('Coeficiente B: '))\n",
        "  C = float(input('Coeficiente C: '))\n",
        "  if A == 0 or (B == 0 and C == 0):\n",
        "    print('Não é uma Equação do 2° Grau.')\n",
        "  else:\n",
        "    delta = B ** 2 - 4 * A * C\n",
        "    print(f'Valor de Delta: {delta: .2f}')\n",
        "    if delta < 0:\n",
        "      print('Não tem Raízes no conjunto dos números reais.')\n",
        "    elif delta == 0:\n",
        "      X1 = -B / (2 * A)\n",
        "      print(f'Raiz X1 = X2 = {X1: .2f}')\n",
        "    else:\n",
        "      raizDelta = delta ** 0.5\n",
        "      print(f'Valor da Raíz de Delta: {raizDelta: .2f}')\n",
        "      X1 = (-B + raizDelta) / (2 * A)\n",
        "      X2 = (-B - raizDelta) / (2 * A)\n",
        "      print(f'Raiz X1 = {X1: .2f}')\n",
        "      print(f'Raiz X2 = {X2: .2f}')\n",
        "except Exception as ERRO_EXCECAO:\n",
        "  print(f'Erro de exceção: {ERRO_EXCECAO}')\n"
      ],
      "metadata": {
        "id": "z2AhPgoZKHge",
        "colab": {
          "base_uri": "https://localhost:8080/"
        },
        "outputId": "bcfc0614-762f-4169-9b1b-22be08dfbc98"
      },
      "execution_count": 3,
      "outputs": [
        {
          "output_type": "stream",
          "name": "stdout",
          "text": [
            "Coeficiente A: 1\n",
            "Coeficiente B: 2\n",
            "Coeficiente C: 1\n",
            "Valor de Delta:  0.00\n",
            "Raiz X1 = X2 = -1.00\n"
          ]
        }
      ]
    },
    {
      "cell_type": "markdown",
      "source": [
        "Programar na próxima célula, usando as linguagens de marcação HTML + CSS + LATEX, a equação montada com os valores:\n",
        "\n",
        "*   Coeficientes $A$, $B$ e $C$.\n",
        "*   Delta e Raiz de Delta, se existir.\n",
        "* $x_1$ e $x_2$, se existir."
      ],
      "metadata": {
        "id": "jxAusTEgKL1k"
      }
    },
    {
      "cell_type": "markdown",
      "source": [
        "<!DOCTYPE html>\n",
        "<html lang=\"pt-br\">\n",
        "<head>\n",
        "    <meta charset=\"UTF-8\">\n",
        "    <meta name=\"viewport\" content=\"width=device-width, initial-scale=1.0\">\n",
        "    <title>DECOMPOSIÇÃO 3 ----------------------------------------------------------------------------------------------------------------------------</title>\n",
        "</head>\n",
        "<body>\n",
        "    <h3>Resolução da Equação do Segundo Grau</h3>\n",
        "<br>\n",
        "    - Coeficientes testados ---->  A=1; B=2; C=1\n",
        "$$ x^2 + 2 + 1 = 0 $$\n",
        "<br>\n",
        "     - DELTA:  O valor de delta é igual a zero, visto que o coenficiente que multiplica que B resulta em 4. A multiplica -4 que resulta -4 e C multiplica 0 -4, que resulta em -4 No código, quando multiplicado todos os valores, DELTA é igual a zero.\n",
        "$$ \\Delta = 2^2 - 4*1*1 $$\n",
        "$$ \\Delta = 0 $$\n",
        "<br>\n",
        "    - RAÍZES: Raiz X1 = X2 = -1.00\n",
        "\n",
        "</body>\n",
        "</html>"
      ],
      "metadata": {
        "id": "01_NVAB8pMxE"
      }
    },
    {
      "cell_type": "markdown",
      "source": [
        "RASTREAMENTO DO ALGORITMO: $$ x^2 + 2 + 1 = 0 $$\n",
        "\n",
        "*   1º PASSO (AÇÕES ou DECISÕES = ação = LER: Coeficiente $a = 1$)\n",
        "*   2º PASSO (AÇÕES ou DECISÕES = ação = LER: Coeficiente $b = 2$)\n",
        "*   3º PASSO (AÇÕES ou DECISÕES = açãp = LER: Coeficiente $c = 1$)\n",
        "*   4º PASSO (AÇÕES ou DECISÕES = decisão = EXIBIR: 'Valor de Delta:  0.00')\n",
        "*   5º PASSO (AÇÕES ou DECISÕES = decisão = EXIBIR: 'Valor de Delta:  Raiz X1 = X2 = -1.00\n",
        "')\n"
      ],
      "metadata": {
        "id": "vzdcMD0zKL9l"
      }
    },
    {
      "cell_type": "markdown",
      "source": [
        "# DECOMPOSIÇÃO 4:\n",
        "\n",
        "Os coeficientes A, B ou C formam uma equação do 2º grau: de delta > 0:"
      ],
      "metadata": {
        "id": "u7EtqYSBKMTx"
      }
    },
    {
      "cell_type": "code",
      "source": [
        "# Executar seu algoritmo aqui:\n",
        "try:\n",
        "  A = float(input('Coeficiente A: '))\n",
        "  B = float(input('Coeficiente B: '))\n",
        "  C = float(input('Coeficiente C: '))\n",
        "  if A == 0 or (B == 0 and C == 0):\n",
        "    print('Não é uma Equação do 2° Grau.')\n",
        "  else:\n",
        "    delta = B ** 2 - 4 * A * C\n",
        "    print(f'Valor de Delta: {delta: .2f}')\n",
        "    if delta < 0:\n",
        "      print('Não tem Raízes no conjunto dos números reais.')\n",
        "    elif delta == 0:\n",
        "      X1 = -B / (2 * A)\n",
        "      print(f'Raiz X1 = X2 = {X1: .2f}')\n",
        "    else:\n",
        "      raizDelta = delta ** 0.5\n",
        "      print(f'Valor da Raíz de Delta: {raizDelta: .2f}')\n",
        "      X1 = (-B + raizDelta) / (2 * A)\n",
        "      X2 = (-B - raizDelta) / (2 * A)\n",
        "      print(f'Raiz X1 = {X1: .2f}')\n",
        "      print(f'Raiz X2 = {X2: .2f}')\n",
        "except Exception as ERRO_EXCECAO:\n",
        "  print(f'Erro de exceção: {ERRO_EXCECAO}')\n"
      ],
      "metadata": {
        "id": "4vg_PFGQKhEK",
        "colab": {
          "base_uri": "https://localhost:8080/"
        },
        "outputId": "6d00e9cf-6d8d-42c4-8f32-9e4c802120f1"
      },
      "execution_count": 6,
      "outputs": [
        {
          "output_type": "stream",
          "name": "stdout",
          "text": [
            "Coeficiente A: 2\n",
            "Coeficiente B: 4\n",
            "Coeficiente C: 1\n",
            "Valor de Delta:  8.00\n",
            "Valor da Raíz de Delta:  2.83\n",
            "Raiz X1 = -0.29\n",
            "Raiz X2 = -1.71\n"
          ]
        }
      ]
    },
    {
      "cell_type": "markdown",
      "source": [
        "Programar na próxima célula, usando as linguagens de marcação HTML + CSS + LATEX, a equação montada com os valores:\n",
        "\n",
        "*   Coeficientes $A$, $B$ e $C$.\n",
        "*   Delta e Raiz de Delta, se existir.\n",
        "* $x_1$ e $x_2$, se existir."
      ],
      "metadata": {
        "id": "6AejnYOtK1gt"
      }
    },
    {
      "cell_type": "markdown",
      "source": [
        "<!DOCTYPE html>\n",
        "<html lang=\"pt-br\">\n",
        "<head>\n",
        "    <meta charset=\"UTF-8\">\n",
        "    <meta name=\"viewport\" content=\"width=device-width, initial-scale=1.0\">\n",
        "    <title>DECOMPOSIÇÃO 4 ----------------------------------------------------------------------------------------------------------------------------</title>\n",
        "</head>\n",
        "<body>\n",
        "    <h3>Resolução da Equação do Segundo Grau</h3>\n",
        "<br>\n",
        "    - Coeficientes testados ---->  A=2; B=4; C=1\n",
        "$$ 2x^2 + 4 + 1 = 0 $$\n",
        "<br>\n",
        "     - DELTA:  O valor de delta é maior que zero, visto que o coenficiente que multiplica que B resulta em 16. A multiplica -4 que resulta -8 e C valendo 1 multiplica o -8 , que resulta em -8. No código, quando multiplicado todos os valores, DELTA é maior que zero.\n",
        "$$ \\Delta = 4^2 - 4*2*1 $$\n",
        "$$ \\Delta = 8 $$\n",
        "<br>\n",
        "    - RAÍZES: Raiz X1 = -0.29 | Raiz X2 = -1.71\n",
        "\n",
        "</body>\n",
        "</html>"
      ],
      "metadata": {
        "id": "HvRpmyjKqoW4"
      }
    },
    {
      "cell_type": "markdown",
      "source": [
        "RRASTREAMENTO DO ALGORITMO: $$ 2x^2 + 4 + 1 = 0 $$\n",
        "\n",
        "*   1º PASSO (AÇÕES ou DECISÕES = ação = LER: Coeficiente $a = 2$)\n",
        "*   2º PASSO (AÇÕES ou DECISÕES = ação = LER: Coeficiente $b = 4$)\n",
        "*   3º PASSO (AÇÕES ou DECISÕES = ação = LER: Coeficiente $c = 1$)\n",
        "*   4º PASSO (AÇÕES ou DECISÕES = decisão = EXIBIR: 'Valor de Delta:  8.00')\n",
        "*   5º PASSO (AÇÕES ou DECISÕES = decisão = EXIBIR: 'Valor da Raíz de Delta:  2.83')\n",
        "*   6º PASSO (AÇÕES ou DECISÕES = decisão = EXIBIR: Raiz X1 = -0.29\n",
        "Raiz X2 = -1.71\n",
        "')\n"
      ],
      "metadata": {
        "id": "b59ksYjuK1mb"
      }
    },
    {
      "cell_type": "markdown",
      "source": [
        "# DECOMPOSIÇÃO 5:\n",
        "\n",
        "Os coeficientes A, B ou C levam o algoritmo a um **Erro de Exceção** (vai executar o comando **except**):"
      ],
      "metadata": {
        "id": "XHhIFJ6eK95K"
      }
    },
    {
      "cell_type": "code",
      "source": [
        "try:\n",
        "  A = float(input('Coeficiente A: '))\n",
        "  B = float(input('Coeficiente B: '))\n",
        "  C = float(input('Coeficiente C: '))\n",
        "  if A == 0 or (B == 0 and C == 0):\n",
        "    print('Não é uma Equação do 2° Grau.')\n",
        "  else:\n",
        "    delta = B ** 2 - 4 * A * C\n",
        "    print(f'Valor de Delta: {delta: .2f}')\n",
        "    if delta < 0:\n",
        "      print('Não tem Raízes no conjunto dos números reais.')\n",
        "    elif delta == 0:\n",
        "      X1 = -B / (2 * A)\n",
        "      print(f'Raiz X1 = X2 = {X1: .2f}')\n",
        "    else:\n",
        "      raizDelta = delta ** 0.5\n",
        "      print(f'Valor da Raíz de Delta: {raizDelta: .2f}')\n",
        "      X1 = (-B + raizDelta) / (2 * A)\n",
        "      X2 = (-B - raizDelta) / (2 * A)\n",
        "      print(f'Raiz X1 = {X1: .2f}')\n",
        "      print(f'Raiz X2 = {X2: .2f}')\n",
        "except Exception as ERRO_EXCECAO:\n",
        "  print(f'Erro de exceção: {ERRO_EXCECAO}')"
      ],
      "metadata": {
        "id": "kXf03gksK-H9",
        "colab": {
          "base_uri": "https://localhost:8080/"
        },
        "outputId": "c7fd2df8-0565-4769-e1d3-2f407a1dcf05"
      },
      "execution_count": null,
      "outputs": [
        {
          "output_type": "stream",
          "name": "stdout",
          "text": [
            "Coeficiente A: 3.14\n",
            "Coeficiente B: -5\n",
            "Coeficiente C: -1,3\n",
            "Erro de exceção: could not convert string to float: '-1,3'\n"
          ]
        }
      ]
    },
    {
      "cell_type": "markdown",
      "source": [
        "Programar na próxima célula, usando as linguagens de marcação HTML + CSS + LATEX, faça o RASTREAMENTO (PASSO A PASSO: AÇÕES + DECISÕES) a equação montada com os valores:\n",
        "\n",
        "*   Coeficientes $A$, $B$ e / ou $C$.\n",
        "*   Delta e Raiz de Delta, se existir.\n",
        "* $x_1$ e $x_2$, se existir."
      ],
      "metadata": {
        "id": "U5_ZPDshLQ8a"
      }
    },
    {
      "cell_type": "markdown",
      "source": [
        "<!DOCTYPE html>\n",
        "<html lang=\"pt-br\">\n",
        "<head>\n",
        "    <meta charset=\"UTF-8\">\n",
        "    <meta name=\"viewport\" content=\"width=device-width, initial-scale=1.0\">\n",
        "    <title>DECOMPOSIÇÃO 5 ----------------------------------------------------------------------------------------------------------------------------</title>\n",
        "</head>\n",
        "<body>\n",
        "    <h3>Resolução da Equação do Segundo Grau</h3>\n",
        "<br>\n",
        "    - Coeficientes testados ---->  A=3.14; B=-5; C=-1,3\n",
        "$$\\pi x^2 - 5x -1,3 = 0$$\n",
        "<br>\n",
        "     - DELTA:  Não se calcula o delta porque não é possível converter a string para float.\n",
        "\n",
        "\n",
        "<br>\n",
        "    - RAÍZES: Não se calcula a raiz pois não é possível ter um delta, visto que não é possível convertar a string para float.\n",
        "\n",
        "</body>\n",
        "</html>"
      ],
      "metadata": {
        "id": "bZ-U47pHuMtX"
      }
    },
    {
      "cell_type": "markdown",
      "source": [
        "RASTREAMENTO DO ALGORITMO: $\\pi$ x^2 - 5x -1,3 = 0$\n",
        "\n",
        "*   1º PASSO (AÇÕES ou DECISÕES = ação = LER: Coeficiente $a = \\pi$)\n",
        "*   2º PASSO (AÇÕES ou DECISÕES = ação = LER: Coeficiente $b = -5$)\n",
        "*   3º PASSO (AÇÕES ou DECISÕES = ação = LER: Coeficiente $c = -1,3$)\n",
        "*   4º PASSO (AÇÕES ou DECISÕES = ação = EXIBIR: 'Erro de exceção: could not convert string to float: '-1,3'')"
      ],
      "metadata": {
        "id": "aQfwiQ-vmd4j"
      }
    },
    {
      "cell_type": "markdown",
      "source": [],
      "metadata": {
        "id": "ajglhtFct2Cd"
      }
    }
  ]
}